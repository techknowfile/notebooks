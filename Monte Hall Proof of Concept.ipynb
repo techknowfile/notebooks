{
 "cells": [
  {
   "cell_type": "code",
   "execution_count": 1,
   "metadata": {},
   "outputs": [
    {
     "name": "stdout",
     "output_type": "stream",
     "text": [
      "switch: 0.66563\n",
      "stay: 0.33437\n"
     ]
    },
    {
     "data": {
      "image/png": "[encoded data removed]",
      "text/plain": [
       "<matplotlib.figure.Figure at 0x27726f2bc50>"
      ]
     },
     "metadata": {},
     "output_type": "display_data"
    }
   ],
   "source": [
    "from random import shuffle, randrange\n",
    "import matplotlib.pyplot as plt\n",
    "\n",
    "def lprint(text):\n",
    "    global show_text\n",
    "    if show_text == True:\n",
    "        print(text)\n",
    "        \n",
    "# Config\n",
    "show_text = False\n",
    "\n",
    "# Counters\n",
    "switch_win = 0\n",
    "stay_win = 0\n",
    "\n",
    "win_ratios = []\n",
    "\n",
    "for _ in range(100000):\n",
    "    # Initialize problem\n",
    "    x = [1, 0, 0]\n",
    "    state = [i for i in range(len(x))]\n",
    "    shuffle(x)\n",
    "    lprint(\"Host: Pick a door\")\n",
    "\n",
    "    # Choose door\n",
    "    guess = randrange(0, 2)\n",
    "    state.remove(guess)\n",
    "    lprint(\"Player: I pick door \" + str(guess))\n",
    "\n",
    "    # Game show host opens door with goat\n",
    "    goat_indices = [idx for idx, value in enumerate(x) if value == 0 and idx != guess]\n",
    "    open_door_idx = randrange(0, len(goat_indices))\n",
    "    open_door = goat_indices[open_door_idx]\n",
    "    state.remove(open_door)\n",
    "    lprint(\"Host: That's a good guess! Before we look behind your door, let's see what's behind door \" + str(open_door))\n",
    "    lprint(\":\" + str(x[open_door]) + \" revealed:\")\n",
    "    lprint(\"Host: Would you like to stick with door \" + str(guess) + \" or switch to door \" + str(state[0]))\n",
    "\n",
    "    if x[guess] == 1:\n",
    "        lprint(\"Stay to win\")\n",
    "        stay_win += 1\n",
    "    else:\n",
    "        lprint(\"Switch to win\")\n",
    "        switch_win += 1\n",
    "        \n",
    "    win_ratios.append((switch_win/(switch_win + stay_win), stay_win/(switch_win + stay_win)))\n",
    "            \n",
    "print(\"switch:\", switch_win/(switch_win + stay_win))\n",
    "print(\"stay:\", stay_win/(switch_win + stay_win))\n",
    "\n",
    "switch_points = [(x, y[0]) for x, y in enumerate(win_ratios)]\n",
    "stay_points = [(x, y[1]) for x, y in enumerate(win_ratios)]\n",
    "x, = plt.plot(*zip(*switch_points))\n",
    "y, = plt.plot(*zip(*stay_points))\n",
    "plt.legend([x, y], [\"Switch win %\", \"Stay win %\"])\n",
    "plt.xlabel('Games played')\n",
    "plt.ylabel('Probability of winning')\n",
    "plt.show()"
   ]
  },
  {
   "cell_type": "code",
   "execution_count": null,
   "metadata": {
    "collapsed": true
   },
   "outputs": [],
   "source": []
  },
  {
   "cell_type": "code",
   "execution_count": null,
   "metadata": {
    "collapsed": true
   },
   "outputs": [],
   "source": []
  }
 ],
 "metadata": {
  "anaconda-cloud": {},
  "kernelspec": {
   "display_name": "Python [default]",
   "language": "python",
   "name": "python3"
  },
  "language_info": {
   "codemirror_mode": {
    "name": "ipython",
    "version": 3
   },
   "file_extension": ".py",
   "mimetype": "text/x-python",
   "name": "python",
   "nbconvert_exporter": "python",
   "pygments_lexer": "ipython3",
   "version": "3.5.3"
  }
 },
 "nbformat": 4,
 "nbformat_minor": 1
}
